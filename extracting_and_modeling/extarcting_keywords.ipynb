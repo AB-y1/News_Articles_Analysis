{
 "cells": [
  {
   "cell_type": "code",
   "execution_count": 1,
   "id": "1c0ae295-e078-436c-83e0-0103516d326a",
   "metadata": {},
   "outputs": [],
   "source": [
    "import pandas as pd\n",
    "from keybert import KeyBERT"
   ]
  },
  {
   "cell_type": "code",
   "execution_count": 2,
   "id": "6a1ebc70-dd49-4308-aeeb-e726b5bdfb00",
   "metadata": {},
   "outputs": [],
   "source": [
    "model = KeyBERT()\n"
   ]
  },
  {
   "cell_type": "code",
   "execution_count": 3,
   "id": "04b1e2e5",
   "metadata": {},
   "outputs": [],
   "source": [
    "news = pd.read_csv(r\"C:\\Users\\HP\\Downloads\\week00_data\\data.csv\")"
   ]
  },
  {
   "cell_type": "code",
   "execution_count": 4,
   "id": "1d2868f5",
   "metadata": {},
   "outputs": [
    {
     "data": {
      "text/plain": [
       "[\"UN Chief Urges World To 'Stop The Madness' Of Climate Change\",\n",
       " 'RANDEBOOよりワンランク上の大人っぽさが漂うニットとベストが新登場。',\n",
       " \"UN Chief Urges World to 'Stop the Madness' of Climate Change\",\n",
       " 'Sikkim warning: Hydroelectricity push must be accompanied by safety measures',\n",
       " '200 foreigners, dual nationals cut down in Hamas assault. Here’s where they were from',\n",
       " '中印交惡令尼泊爾機場難以發展國際航線',\n",
       " 'Pro-Israel rallies allowed in India but Palestine solidarity sees crackdown',\n",
       " 'No nation in the world is buying more planes than India. Here’s why.',\n",
       " \"More than 130 people have reportedly been taken to Gaza as hostages. Here's what we know\",\n",
       " 'World Cup: New Zealand v Bangladesh - clips, radio & text',\n",
       " 'Glacial Lakes Threaten Millions in a Warming World',\n",
       " \"UN Chief Urges Peace From Site Venerated as Buddha's Birthplace\",\n",
       " 'PM Hasina’s war on terror gets daughter India’s vote in WHO',\n",
       " 'Over 1,000 call centre scammers detained this year, say cops',\n",
       " 'Magnitude 5.6 earthquake strikes Nepal',\n",
       " 'China expands climate change surveillance on Himalayan peak',\n",
       " 'Middle Sinitic in Indological Transcription',\n",
       " 'AI of tiger: Tiny camera protects people',\n",
       " 'CNA wins gold in Best Use of Video category at WAN-IFRA Asian Digital Media Awards 2023',\n",
       " 'WHO Regional Election Sparks Nepotism Concerns in Bangladesh']"
      ]
     },
     "execution_count": 4,
     "metadata": {},
     "output_type": "execute_result"
    }
   ],
   "source": [
    "list_of_titles = news['title'].tolist()\n",
    "list_of_titles[:20]"
   ]
  },
  {
   "cell_type": "code",
   "execution_count": 5,
   "id": "96db88d2",
   "metadata": {},
   "outputs": [
    {
     "data": {
      "text/plain": [
       "105375"
      ]
     },
     "execution_count": 5,
     "metadata": {},
     "output_type": "execute_result"
    }
   ],
   "source": [
    "# making a new list that contain just strings in case there is an apropriate values in \"lilst_of_titles\"\n",
    "string_titles = []\n",
    "for title in list_of_titles:\n",
    "    if isinstance(title, str):\n",
    "        string_titles.append(title)\n",
    "    else :\n",
    "        string_titles.append(str(title))\n",
    "# string_titles[:10]\n",
    "len(string_titles)"
   ]
  },
  {
   "cell_type": "code",
   "execution_count": 14,
   "id": "8777f592",
   "metadata": {},
   "outputs": [],
   "source": [
    "import random\n",
    "sample_of_titles = random.sample(list_of_titles,1000)\n",
    "# sample_of_titles[:20]"
   ]
  },
  {
   "cell_type": "code",
   "execution_count": 11,
   "id": "b22e3798",
   "metadata": {},
   "outputs": [
    {
     "name": "stdout",
     "output_type": "stream",
     "text": [
      "UN Chief Urges World To 'Stop The Madness' Of Climate Change\n",
      "RANDEBOOよりワンランク上の大人っぽさが漂うニットとベストが新登場。\n",
      "UN Chief Urges World to 'Stop the Madness' of Climate Change\n",
      "Sikkim warning: Hydroelectricity push must be accompanied by safety measures\n",
      "200 foreigners, dual nationals cut down in Hamas assault. Here’s where they were from\n",
      "中印交惡令尼泊爾機場難以發展國際航線\n",
      "Pro-Israel rallies allowed in India but Palestine solidarity sees crackdown\n",
      "No nation in the world is buying more planes than India. Here’s why.\n",
      "More than 130 people have reportedly been taken to Gaza as hostages. Here's what we know\n",
      "World Cup: New Zealand v Bangladesh - clips, radio & text\n"
     ]
    }
   ],
   "source": [
    "\n",
    "# Join the list elements with newlines to create a docstring\n",
    "titles_docstring = \"\\n\".join(string_titles[:10])\n",
    "\n",
    "print(titles_docstring)"
   ]
  },
  {
   "cell_type": "code",
   "execution_count": 30,
   "id": "92b0bfb8-3e99-46ec-aa2f-5c634d149014",
   "metadata": {},
   "outputs": [],
   "source": [
    "titles_keywords = model.extract_keywords(sample_of_titles)\n",
    "\n"
   ]
  },
  {
   "cell_type": "code",
   "execution_count": 33,
   "id": "33e4a1e3-71be-4114-92a1-2753f45b7deb",
   "metadata": {},
   "outputs": [
    {
     "data": {
      "text/plain": [
       "[[('apa', 0.5283),\n",
       "  ('nasdaq', 0.478),\n",
       "  ('stocknews', 0.4371),\n",
       "  ('upgraded', 0.4199),\n",
       "  ('com', 0.1947)],\n",
       " [('climate', 0.4218),\n",
       "  ('civilizations', 0.4199),\n",
       "  ('roman', 0.3748),\n",
       "  ('ancient', 0.3284),\n",
       "  ('empire', 0.2388)],\n",
       " [('grenfell', 0.5273),\n",
       "  ('2026', 0.3802),\n",
       "  ('construction', 0.3617),\n",
       "  ('tower', 0.3556),\n",
       "  ('memorial', 0.3537)],\n",
       " [('poland', 0.3843),\n",
       "  ('coalition', 0.3592),\n",
       "  ('majority', 0.3405),\n",
       "  ('parliament', 0.3357),\n",
       "  ('conservatives', 0.3249)],\n",
       " [('price', 0.3464),\n",
       "  ('apollo', 0.3301),\n",
       "  ('nyse', 0.3239),\n",
       "  ('apo', 0.3182),\n",
       "  ('target', 0.2854)]]"
      ]
     },
     "execution_count": 33,
     "metadata": {},
     "output_type": "execute_result"
    }
   ],
   "source": [
    "titles_keywords[:5]"
   ]
  },
  {
   "cell_type": "code",
   "execution_count": null,
   "id": "046e995b",
   "metadata": {},
   "outputs": [],
   "source": []
  },
  {
   "cell_type": "code",
   "execution_count": 16,
   "id": "0fbbb539",
   "metadata": {},
   "outputs": [],
   "source": [
    "# model.extract_keywords(sample_of_titles, keyphrase_ngram_range=(1, 2), stop_words=None)\n"
   ]
  },
  {
   "cell_type": "code",
   "execution_count": 17,
   "id": "420027fc-3520-417d-969e-fe6f2df1423f",
   "metadata": {},
   "outputs": [
    {
     "data": {
      "text/plain": [
       "['UN Secretary-General Antonio Guterres urged the world Monday to \"stop the madness\" of climate change as he visited Himalayan regions struggling from rapidly melting glaciers to witness the devastatin… [+2444 chars]',\n",
       " 'RANDEBOO2023718()WEB2023 Autumn Winter \\n\"Nepal Handmade ram vest\"Nepal Handmade ram knit\"2023106()12:00WEB\\n106() 12:00\\nhttps://x.gd/226uY\\nNepal Handmade ram vest\\n¥17,600()\\nGray/Ivory\\n[]\\n1\\n[D… [+583 chars]',\n",
       " 'Kathmandu, Nepal \\xa0UN Secretary-General Antonio Guterres urged the world Monday to \"stop the madness\" of climate change as he visited Himalayan regions struggling from rapidly melting glaciers to witn… [+2468 chars]',\n",
       " 'At least 14 persons lost their lives and more than 100 others, including 23 army personnel, are reportedly missing in Sikkim after the Teesta river went into spate on Wednesday. The flash floods seem… [+1826 chars]',\n",
       " 'Scores of foreign citizens were killed, taken hostage or listed as missing after the Hamas terror group launched a major assault on Israel on October 7.\\nMore than 1,400, mainly civilians, have been … [+4658 chars]',\n",
       " 'Getty Images\\n20225\\n·Bishnu Sharma\\nLumbini\\nLumbini Development Trust2022100760061005Gautam Buddha International Airport\\nBhairahawa Airport250155\\nBBC\\nBBC/Anbarasan Ethirajan\\n12\\nGetty Images\\n2… [+196 chars]',\n",
       " 'New Delhi, India Israels relentless bombing of the besieged Gaza Strip and killing of nearly 6,000 people a third of them children in two weeks has outraged people across the world, triggering mass p… [+9013 chars]',\n",
       " 'No nation in the world is buying as many airplanes as India. Its largest airlines have ordered nearly 1,000 jets this year, committing tens of billions of dollars to a spending spree that is unparall… [+7083 chars]',\n",
       " \"Hamas fighters have escaped back to Gaza with dozens of captives following the group's unprecedented attack on Israel which saw at least 700 Israelis killed, followed by 400 Palestinians after retali… [+1553 chars]\",\n",
       " \"Here we are then. Match 11 of the Cricket World Cup. A week and a day into the tournament and we've seen records broken, plenty of passion and a decent helping of DRS controversy.\\nWhat we haven't ha… [+252 chars]\"]"
      ]
     },
     "execution_count": 17,
     "metadata": {},
     "output_type": "execute_result"
    }
   ],
   "source": [
    "list_of_content = news['content'].tolist()\n",
    "list_of_content[:10]"
   ]
  },
  {
   "cell_type": "code",
   "execution_count": 21,
   "id": "1b2d82cd-f6a6-4949-b721-696bd7822f5d",
   "metadata": {},
   "outputs": [
    {
     "data": {
      "text/plain": [
       "['UN Secretary-General Antonio Guterres urged the world Monday to \"stop the madness\" of climate change as he visited Himalayan regions struggling from rapidly melting glaciers to witness the devastatin… [+2444 chars]',\n",
       " 'RANDEBOO2023718()WEB2023 Autumn Winter \\n\"Nepal Handmade ram vest\"Nepal Handmade ram knit\"2023106()12:00WEB\\n106() 12:00\\nhttps://x.gd/226uY\\nNepal Handmade ram vest\\n¥17,600()\\nGray/Ivory\\n[]\\n1\\n[D… [+583 chars]',\n",
       " 'Kathmandu, Nepal \\xa0UN Secretary-General Antonio Guterres urged the world Monday to \"stop the madness\" of climate change as he visited Himalayan regions struggling from rapidly melting glaciers to witn… [+2468 chars]',\n",
       " 'At least 14 persons lost their lives and more than 100 others, including 23 army personnel, are reportedly missing in Sikkim after the Teesta river went into spate on Wednesday. The flash floods seem… [+1826 chars]',\n",
       " 'Scores of foreign citizens were killed, taken hostage or listed as missing after the Hamas terror group launched a major assault on Israel on October 7.\\nMore than 1,400, mainly civilians, have been … [+4658 chars]']"
      ]
     },
     "execution_count": 21,
     "metadata": {},
     "output_type": "execute_result"
    }
   ],
   "source": [
    "# Cleaning the list to be just a string\n",
    "string_content = []\n",
    "for content in list_of_content:\n",
    "    if isinstance(content, str):\n",
    "        string_content.append(content)\n",
    "    else :\n",
    "        string_content.append(str(content))\n",
    "string_content[:5]"
   ]
  },
  {
   "cell_type": "code",
   "execution_count": 24,
   "id": "ec1a6df4",
   "metadata": {},
   "outputs": [],
   "source": [
    "sample_of_content = random.sample(list_of_content,1000)\n"
   ]
  },
  {
   "cell_type": "code",
   "execution_count": 38,
   "id": "0603b400",
   "metadata": {},
   "outputs": [],
   "source": [
    "content_docstring = \"\\n\".join(string_titles)\n"
   ]
  },
  {
   "cell_type": "code",
   "execution_count": 27,
   "id": "a6335870",
   "metadata": {},
   "outputs": [],
   "source": [
    "keywords2 = model.extract_keywords(sample_of_content)\n",
    "\n"
   ]
  },
  {
   "cell_type": "code",
   "execution_count": 29,
   "id": "70e606ac",
   "metadata": {},
   "outputs": [
    {
     "data": {
      "text/plain": [
       "[[('shares', 0.4719),\n",
       "  ('drilling', 0.3862),\n",
       "  ('company', 0.3838),\n",
       "  ('borr', 0.3622),\n",
       "  ('nyse', 0.3586)],\n",
       " [('ansys', 0.4473),\n",
       "  ('nasdaq', 0.4419),\n",
       "  ('cibc', 0.4223),\n",
       "  ('holdings', 0.3973),\n",
       "  ('anss', 0.3912)],\n",
       " [('movies', 0.4156),\n",
       "  ('multiplex', 0.3912),\n",
       "  ('november', 0.3803),\n",
       "  ('streaming', 0.3536),\n",
       "  ('movie', 0.2667)],\n",
       " [('nigerian', 0.3965),\n",
       "  ('kale', 0.3903),\n",
       "  ('nigeria', 0.3547),\n",
       "  ('tinubu', 0.3459),\n",
       "  ('general', 0.2891)],\n",
       " [('korea', 0.4743),\n",
       "  ('seoul', 0.4326),\n",
       "  ('korean', 0.3788),\n",
       "  ('russia', 0.34),\n",
       "  ('yoon', 0.3351)]]"
      ]
     },
     "execution_count": 29,
     "metadata": {},
     "output_type": "execute_result"
    }
   ],
   "source": [
    "keywords2[:5]"
   ]
  },
  {
   "cell_type": "markdown",
   "id": "8a1b415d-857f-4c29-9ff1-66510fa6ef46",
   "metadata": {},
   "source": [
    "# For checking how similer the title keywords to the content keywords I used"
   ]
  },
  {
   "cell_type": "code",
   "execution_count": 40,
   "id": "d1c496c8-bf5b-4207-a80c-3e09f9190e78",
   "metadata": {},
   "outputs": [
    {
     "ename": "IndentationError",
     "evalue": "unexpected indent (4216130919.py, line 11)",
     "output_type": "error",
     "traceback": [
      "\u001b[1;36m  Cell \u001b[1;32mIn[40], line 11\u001b[1;36m\u001b[0m\n\u001b[1;33m    for word in list1:\u001b[0m\n\u001b[1;37m    ^\u001b[0m\n\u001b[1;31mIndentationError\u001b[0m\u001b[1;31m:\u001b[0m unexpected indent\n"
     ]
    }
   ],
   "source": [
    "def jaccard_similarity(list1, list2):\n",
    "  \"\"\"Calculates Jaccard similarity between two lists of keywords.\n",
    "\n",
    "  Args:\n",
    "      list1: The first list of keywords (words only).\n",
    "      list2: The second list of keywords (words only).\n",
    "\n",
    "  Returns:\n",
    "      The Jaccard similarity coefficient (float between 0 and 1).\n",
    "  \"\"\"\n",
    "    for word in list1:\n",
    "        set1= set(list1)\n",
    "    set1 = set([(word, weight) for word, weight in list1]) \n",
    "    set2 = set([(word, weight) for word, weight in list1])  \n",
    "  # Extract words from tuples in list2\n",
    "  intersection = len(set1.intersection(set2))\n",
    "  union = len(set1.union(set2))\n",
    "  return intersection / float(union) if union else 0  # Handle division by zero\n",
    "\n",
    "\n"
   ]
  },
  {
   "cell_type": "code",
   "execution_count": 39,
   "id": "728a7b86-ef6f-4263-8b2b-8ae590c4357b",
   "metadata": {},
   "outputs": [
    {
     "ename": "ValueError",
     "evalue": "too many values to unpack (expected 2)",
     "output_type": "error",
     "traceback": [
      "\u001b[1;31m---------------------------------------------------------------------------\u001b[0m",
      "\u001b[1;31mValueError\u001b[0m                                Traceback (most recent call last)",
      "Cell \u001b[1;32mIn[39], line 1\u001b[0m\n\u001b[1;32m----> 1\u001b[0m similarity \u001b[38;5;241m=\u001b[39m \u001b[43mjaccard_similarity\u001b[49m\u001b[43m(\u001b[49m\u001b[43mtitles_keywords\u001b[49m\u001b[43m,\u001b[49m\u001b[43m \u001b[49m\u001b[43mkeywords2\u001b[49m\u001b[43m)\u001b[49m\n\u001b[0;32m      2\u001b[0m \u001b[38;5;28mprint\u001b[39m(\u001b[38;5;124mf\u001b[39m\u001b[38;5;124m\"\u001b[39m\u001b[38;5;124mJaccard similarity: \u001b[39m\u001b[38;5;132;01m{\u001b[39;00msimilarity\u001b[38;5;132;01m:\u001b[39;00m\u001b[38;5;124m.4f\u001b[39m\u001b[38;5;132;01m}\u001b[39;00m\u001b[38;5;124m\"\u001b[39m)\n",
      "Cell \u001b[1;32mIn[36], line 12\u001b[0m, in \u001b[0;36mjaccard_similarity\u001b[1;34m(list1, list2)\u001b[0m\n\u001b[0;32m      1\u001b[0m \u001b[38;5;28;01mdef\u001b[39;00m \u001b[38;5;21mjaccard_similarity\u001b[39m(list1, list2):\n\u001b[0;32m      2\u001b[0m \u001b[38;5;250m  \u001b[39m\u001b[38;5;124;03m\"\"\"Calculates Jaccard similarity between two lists of keywords.\u001b[39;00m\n\u001b[0;32m      3\u001b[0m \n\u001b[0;32m      4\u001b[0m \u001b[38;5;124;03m  Args:\u001b[39;00m\n\u001b[1;32m   (...)\u001b[0m\n\u001b[0;32m      9\u001b[0m \u001b[38;5;124;03m      The Jaccard similarity coefficient (float between 0 and 1).\u001b[39;00m\n\u001b[0;32m     10\u001b[0m \u001b[38;5;124;03m  \"\"\"\u001b[39;00m\n\u001b[1;32m---> 12\u001b[0m   set1 \u001b[38;5;241m=\u001b[39m \u001b[38;5;28mset\u001b[39m([word \u001b[38;5;28;01mfor\u001b[39;00m word, _ \u001b[38;5;129;01min\u001b[39;00m list1])  \u001b[38;5;66;03m# Extract words from tuples in list1\u001b[39;00m\n\u001b[0;32m     13\u001b[0m   set2 \u001b[38;5;241m=\u001b[39m \u001b[38;5;28mset\u001b[39m([word \u001b[38;5;28;01mfor\u001b[39;00m word, _ \u001b[38;5;129;01min\u001b[39;00m list2])  \u001b[38;5;66;03m# Extract words from tuples in list2\u001b[39;00m\n\u001b[0;32m     14\u001b[0m   intersection \u001b[38;5;241m=\u001b[39m \u001b[38;5;28mlen\u001b[39m(set1\u001b[38;5;241m.\u001b[39mintersection(set2))\n",
      "\u001b[1;31mValueError\u001b[0m: too many values to unpack (expected 2)"
     ]
    }
   ],
   "source": [
    "similarity = jaccard_similarity(titles_keywords, keywords2)\n",
    "print(f\"Jaccard similarity: {similarity:.4f}\")"
   ]
  },
  {
   "cell_type": "code",
   "execution_count": 41,
   "id": "de36257f-987a-489a-976a-63834db38230",
   "metadata": {},
   "outputs": [
    {
     "ename": "ModuleNotFoundError",
     "evalue": "No module named 'gensim'",
     "output_type": "error",
     "traceback": [
      "\u001b[1;31m---------------------------------------------------------------------------\u001b[0m",
      "\u001b[1;31mModuleNotFoundError\u001b[0m                       Traceback (most recent call last)",
      "Cell \u001b[1;32mIn[41], line 1\u001b[0m\n\u001b[1;32m----> 1\u001b[0m \u001b[38;5;28;01mfrom\u001b[39;00m \u001b[38;5;21;01mgensim\u001b[39;00m \u001b[38;5;28;01mimport\u001b[39;00m similarities\n\u001b[0;32m      2\u001b[0m \u001b[38;5;28;01mfrom\u001b[39;00m \u001b[38;5;21;01mcollections\u001b[39;00m \u001b[38;5;28;01mimport\u001b[39;00m defaultdict\n\u001b[0;32m      4\u001b[0m \u001b[38;5;28;01mdef\u001b[39;00m \u001b[38;5;21mtfidf_similarity\u001b[39m(list1, list2):\n",
      "\u001b[1;31mModuleNotFoundError\u001b[0m: No module named 'gensim'"
     ]
    }
   ],
   "source": [
    "from gensim import similarities\n",
    "from collections import defaultdict\n",
    "\n",
    "def tfidf_similarity(list1, list2):\n",
    "  \"\"\"Calculates TF-IDF cosine similarity between two lists of keywords.\n",
    "\n",
    "  Args:\n",
    "      list1: The first list of keywords.\n",
    "      list2: The second list of keywords.\n",
    "\n",
    "  Returns:\n",
    "      The cosine similarity score (float between 0 and 1).\n",
    "  \"\"\"\n",
    "\n",
    "  # Create a dictionary to store keywords and their frequencies\n",
    "  corpus = []\n",
    "  for keywords in [list1, list2]:\n",
    "    word_counts = defaultdict(int)\n",
    "    for word, _ in keywords:\n",
    "      word_counts[word] += 1\n",
    "    corpus.append(word_counts)\n",
    "\n",
    "  # Create a TF-IDF model\n",
    "  dictionary = corpora.Dictionary(corpus)\n",
    "  tfidf = similarities.MatrixSimilarity(tfidf[corpus])\n",
    "\n",
    "  # Calculate cosine similarity\n",
    "  vec1 = dictionary.doc2bow(list1)\n",
    "  vec2 = dictionary.doc2bow(list2)\n",
    "  similarity = tfidf[vec1][vec2]\n",
    "  return similarity\n",
    "\n",
    "# Example usage (assuming you have gensim installed)\n",
    "list1 = [('shares', 0.4719), ('drilling', 0.3862), ('company', 0.3838)]\n",
    "list2 = [('ansys', 0.4473), ('nasdaq', 0.4419), ('company', 0.4223)]\n",
    "\n",
    "similarity = tfidf_similarity(list1, list2)\n",
    "print(f\"TF-IDF cosine similarity: {similarity:.4f}\")\n"
   ]
  },
  {
   "cell_type": "code",
   "execution_count": null,
   "id": "30c61455-ee62-48e8-9ecd-cbe2549e99a9",
   "metadata": {},
   "outputs": [],
   "source": []
  },
  {
   "cell_type": "code",
   "execution_count": null,
   "id": "ec8a6092-9a51-4d50-8fb3-9108597d197b",
   "metadata": {},
   "outputs": [],
   "source": []
  }
 ],
 "metadata": {
  "kernelspec": {
   "display_name": "Python 3 (ipykernel)",
   "language": "python",
   "name": "python3"
  },
  "language_info": {
   "codemirror_mode": {
    "name": "ipython",
    "version": 3
   },
   "file_extension": ".py",
   "mimetype": "text/x-python",
   "name": "python",
   "nbconvert_exporter": "python",
   "pygments_lexer": "ipython3",
   "version": "3.12.2"
  }
 },
 "nbformat": 4,
 "nbformat_minor": 5
}
